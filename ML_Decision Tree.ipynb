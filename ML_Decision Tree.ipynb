{
 "cells": [
  {
   "cell_type": "markdown",
   "metadata": {},
   "source": [
    "# Read Data"
   ]
  },
  {
   "cell_type": "code",
   "execution_count": 1,
   "metadata": {},
   "outputs": [
    {
     "name": "stdout",
     "output_type": "stream",
     "text": [
      "reading data...\n"
     ]
    }
   ],
   "source": [
    "import pandas as pd\n",
    "print(\"reading data...\")\n",
    "data=pd.read_csv('winequality-red.csv',delimiter=';')"
   ]
  },
  {
   "cell_type": "markdown",
   "metadata": {},
   "source": [
    "# Get an idea of data by examining it"
   ]
  },
  {
   "cell_type": "code",
   "execution_count": 2,
   "metadata": {},
   "outputs": [
    {
     "data": {
      "text/html": [
       "<div>\n",
       "<style scoped>\n",
       "    .dataframe tbody tr th:only-of-type {\n",
       "        vertical-align: middle;\n",
       "    }\n",
       "\n",
       "    .dataframe tbody tr th {\n",
       "        vertical-align: top;\n",
       "    }\n",
       "\n",
       "    .dataframe thead th {\n",
       "        text-align: right;\n",
       "    }\n",
       "</style>\n",
       "<table border=\"1\" class=\"dataframe\">\n",
       "  <thead>\n",
       "    <tr style=\"text-align: right;\">\n",
       "      <th></th>\n",
       "      <th>fixed acidity</th>\n",
       "      <th>volatile acidity</th>\n",
       "      <th>citric acid</th>\n",
       "      <th>residual sugar</th>\n",
       "      <th>chlorides</th>\n",
       "      <th>free sulfur dioxide</th>\n",
       "      <th>total sulfur dioxide</th>\n",
       "      <th>density</th>\n",
       "      <th>pH</th>\n",
       "      <th>sulphates</th>\n",
       "      <th>alcohol</th>\n",
       "      <th>quality</th>\n",
       "    </tr>\n",
       "  </thead>\n",
       "  <tbody>\n",
       "    <tr>\n",
       "      <th>0</th>\n",
       "      <td>7.4</td>\n",
       "      <td>0.700</td>\n",
       "      <td>0.00</td>\n",
       "      <td>1.9</td>\n",
       "      <td>0.076</td>\n",
       "      <td>11.0</td>\n",
       "      <td>34.0</td>\n",
       "      <td>0.99780</td>\n",
       "      <td>3.51</td>\n",
       "      <td>0.56</td>\n",
       "      <td>9.4</td>\n",
       "      <td>5</td>\n",
       "    </tr>\n",
       "    <tr>\n",
       "      <th>1</th>\n",
       "      <td>7.8</td>\n",
       "      <td>0.880</td>\n",
       "      <td>0.00</td>\n",
       "      <td>2.6</td>\n",
       "      <td>0.098</td>\n",
       "      <td>25.0</td>\n",
       "      <td>67.0</td>\n",
       "      <td>0.99680</td>\n",
       "      <td>3.20</td>\n",
       "      <td>0.68</td>\n",
       "      <td>9.8</td>\n",
       "      <td>5</td>\n",
       "    </tr>\n",
       "    <tr>\n",
       "      <th>2</th>\n",
       "      <td>7.8</td>\n",
       "      <td>0.760</td>\n",
       "      <td>0.04</td>\n",
       "      <td>2.3</td>\n",
       "      <td>0.092</td>\n",
       "      <td>15.0</td>\n",
       "      <td>54.0</td>\n",
       "      <td>0.99700</td>\n",
       "      <td>3.26</td>\n",
       "      <td>0.65</td>\n",
       "      <td>9.8</td>\n",
       "      <td>5</td>\n",
       "    </tr>\n",
       "    <tr>\n",
       "      <th>3</th>\n",
       "      <td>11.2</td>\n",
       "      <td>0.280</td>\n",
       "      <td>0.56</td>\n",
       "      <td>1.9</td>\n",
       "      <td>0.075</td>\n",
       "      <td>17.0</td>\n",
       "      <td>60.0</td>\n",
       "      <td>0.99800</td>\n",
       "      <td>3.16</td>\n",
       "      <td>0.58</td>\n",
       "      <td>9.8</td>\n",
       "      <td>6</td>\n",
       "    </tr>\n",
       "    <tr>\n",
       "      <th>4</th>\n",
       "      <td>7.4</td>\n",
       "      <td>0.700</td>\n",
       "      <td>0.00</td>\n",
       "      <td>1.9</td>\n",
       "      <td>0.076</td>\n",
       "      <td>11.0</td>\n",
       "      <td>34.0</td>\n",
       "      <td>0.99780</td>\n",
       "      <td>3.51</td>\n",
       "      <td>0.56</td>\n",
       "      <td>9.4</td>\n",
       "      <td>5</td>\n",
       "    </tr>\n",
       "    <tr>\n",
       "      <th>...</th>\n",
       "      <td>...</td>\n",
       "      <td>...</td>\n",
       "      <td>...</td>\n",
       "      <td>...</td>\n",
       "      <td>...</td>\n",
       "      <td>...</td>\n",
       "      <td>...</td>\n",
       "      <td>...</td>\n",
       "      <td>...</td>\n",
       "      <td>...</td>\n",
       "      <td>...</td>\n",
       "      <td>...</td>\n",
       "    </tr>\n",
       "    <tr>\n",
       "      <th>1594</th>\n",
       "      <td>6.2</td>\n",
       "      <td>0.600</td>\n",
       "      <td>0.08</td>\n",
       "      <td>2.0</td>\n",
       "      <td>0.090</td>\n",
       "      <td>32.0</td>\n",
       "      <td>44.0</td>\n",
       "      <td>0.99490</td>\n",
       "      <td>3.45</td>\n",
       "      <td>0.58</td>\n",
       "      <td>10.5</td>\n",
       "      <td>5</td>\n",
       "    </tr>\n",
       "    <tr>\n",
       "      <th>1595</th>\n",
       "      <td>5.9</td>\n",
       "      <td>0.550</td>\n",
       "      <td>0.10</td>\n",
       "      <td>2.2</td>\n",
       "      <td>0.062</td>\n",
       "      <td>39.0</td>\n",
       "      <td>51.0</td>\n",
       "      <td>0.99512</td>\n",
       "      <td>3.52</td>\n",
       "      <td>0.76</td>\n",
       "      <td>11.2</td>\n",
       "      <td>6</td>\n",
       "    </tr>\n",
       "    <tr>\n",
       "      <th>1596</th>\n",
       "      <td>6.3</td>\n",
       "      <td>0.510</td>\n",
       "      <td>0.13</td>\n",
       "      <td>2.3</td>\n",
       "      <td>0.076</td>\n",
       "      <td>29.0</td>\n",
       "      <td>40.0</td>\n",
       "      <td>0.99574</td>\n",
       "      <td>3.42</td>\n",
       "      <td>0.75</td>\n",
       "      <td>11.0</td>\n",
       "      <td>6</td>\n",
       "    </tr>\n",
       "    <tr>\n",
       "      <th>1597</th>\n",
       "      <td>5.9</td>\n",
       "      <td>0.645</td>\n",
       "      <td>0.12</td>\n",
       "      <td>2.0</td>\n",
       "      <td>0.075</td>\n",
       "      <td>32.0</td>\n",
       "      <td>44.0</td>\n",
       "      <td>0.99547</td>\n",
       "      <td>3.57</td>\n",
       "      <td>0.71</td>\n",
       "      <td>10.2</td>\n",
       "      <td>5</td>\n",
       "    </tr>\n",
       "    <tr>\n",
       "      <th>1598</th>\n",
       "      <td>6.0</td>\n",
       "      <td>0.310</td>\n",
       "      <td>0.47</td>\n",
       "      <td>3.6</td>\n",
       "      <td>0.067</td>\n",
       "      <td>18.0</td>\n",
       "      <td>42.0</td>\n",
       "      <td>0.99549</td>\n",
       "      <td>3.39</td>\n",
       "      <td>0.66</td>\n",
       "      <td>11.0</td>\n",
       "      <td>6</td>\n",
       "    </tr>\n",
       "  </tbody>\n",
       "</table>\n",
       "<p>1599 rows × 12 columns</p>\n",
       "</div>"
      ],
      "text/plain": [
       "      fixed acidity  volatile acidity  citric acid  residual sugar  chlorides  \\\n",
       "0               7.4             0.700         0.00             1.9      0.076   \n",
       "1               7.8             0.880         0.00             2.6      0.098   \n",
       "2               7.8             0.760         0.04             2.3      0.092   \n",
       "3              11.2             0.280         0.56             1.9      0.075   \n",
       "4               7.4             0.700         0.00             1.9      0.076   \n",
       "...             ...               ...          ...             ...        ...   \n",
       "1594            6.2             0.600         0.08             2.0      0.090   \n",
       "1595            5.9             0.550         0.10             2.2      0.062   \n",
       "1596            6.3             0.510         0.13             2.3      0.076   \n",
       "1597            5.9             0.645         0.12             2.0      0.075   \n",
       "1598            6.0             0.310         0.47             3.6      0.067   \n",
       "\n",
       "      free sulfur dioxide  total sulfur dioxide  density    pH  sulphates  \\\n",
       "0                    11.0                  34.0  0.99780  3.51       0.56   \n",
       "1                    25.0                  67.0  0.99680  3.20       0.68   \n",
       "2                    15.0                  54.0  0.99700  3.26       0.65   \n",
       "3                    17.0                  60.0  0.99800  3.16       0.58   \n",
       "4                    11.0                  34.0  0.99780  3.51       0.56   \n",
       "...                   ...                   ...      ...   ...        ...   \n",
       "1594                 32.0                  44.0  0.99490  3.45       0.58   \n",
       "1595                 39.0                  51.0  0.99512  3.52       0.76   \n",
       "1596                 29.0                  40.0  0.99574  3.42       0.75   \n",
       "1597                 32.0                  44.0  0.99547  3.57       0.71   \n",
       "1598                 18.0                  42.0  0.99549  3.39       0.66   \n",
       "\n",
       "      alcohol  quality  \n",
       "0         9.4        5  \n",
       "1         9.8        5  \n",
       "2         9.8        5  \n",
       "3         9.8        6  \n",
       "4         9.4        5  \n",
       "...       ...      ...  \n",
       "1594     10.5        5  \n",
       "1595     11.2        6  \n",
       "1596     11.0        6  \n",
       "1597     10.2        5  \n",
       "1598     11.0        6  \n",
       "\n",
       "[1599 rows x 12 columns]"
      ]
     },
     "execution_count": 2,
     "metadata": {},
     "output_type": "execute_result"
    }
   ],
   "source": [
    "# print data\n",
    "data"
   ]
  },
  {
   "cell_type": "markdown",
   "metadata": {},
   "source": [
    "###### Data has 1599 training examples, 11 features, quality is class label\n",
    "##### Find the values of quality\n"
   ]
  },
  {
   "cell_type": "code",
   "execution_count": 3,
   "metadata": {},
   "outputs": [
    {
     "name": "stdout",
     "output_type": "stream",
     "text": [
      "unique values of label quality: [3 4 5 6 7 8]\n"
     ]
    }
   ],
   "source": [
    "import numpy as np\n",
    "print(\"unique values of label quality:\",np.unique(data['quality']))"
   ]
  },
  {
   "cell_type": "markdown",
   "metadata": {},
   "source": [
    "# Label quality takes 6 different values: 3,4,5,6,7,8\n",
    "## Convert this to three classes: 0(bad)  if quality is less than 5, 1(good) if value is 5 or 6 and to 2(great) otherwise**\n",
    "\n",
    "#### Criteria: \n",
    "**quality<5: class 0(bad)**   \n",
    "**quality=5 or 6: class 1(good)**  \n",
    "**quality>6: class 2(great)**"
   ]
  },
  {
   "cell_type": "code",
   "execution_count": 4,
   "metadata": {},
   "outputs": [],
   "source": [
    "#converting dataframe to numpy array\n",
    "data_array=pd.DataFrame.to_numpy(data)"
   ]
  },
  {
   "cell_type": "code",
   "execution_count": 5,
   "metadata": {},
   "outputs": [
    {
     "name": "stdout",
     "output_type": "stream",
     "text": [
      "[[ 7.4    0.7    0.    ...  0.56   9.4    5.   ]\n",
      " [ 7.8    0.88   0.    ...  0.68   9.8    5.   ]\n",
      " [ 7.8    0.76   0.04  ...  0.65   9.8    5.   ]\n",
      " ...\n",
      " [ 6.3    0.51   0.13  ...  0.75  11.     6.   ]\n",
      " [ 5.9    0.645  0.12  ...  0.71  10.2    5.   ]\n",
      " [ 6.     0.31   0.47  ...  0.66  11.     6.   ]]\n",
      "1599 12\n"
     ]
    }
   ],
   "source": [
    "print(data_array)\n",
    "rows,cols=np.shape(data_array)\n",
    "print(rows,cols)"
   ]
  },
  {
   "cell_type": "code",
   "execution_count": 6,
   "metadata": {},
   "outputs": [],
   "source": [
    "# separate features and labels\n",
    "\n",
    "x=data_array[:,:-1]\n",
    "y=data_array[:,-1]\n",
    "\n",
    "for i in range(rows):\n",
    "    if y[i]<5:\n",
    "        value=0\n",
    "    elif y[i]<=6:\n",
    "        value=1\n",
    "    else:\n",
    "        value=2\n",
    "    y[i]=value"
   ]
  },
  {
   "cell_type": "markdown",
   "metadata": {},
   "source": [
    "## Normalize all the other attributes by Z-score normalization"
   ]
  },
  {
   "cell_type": "code",
   "execution_count": 7,
   "metadata": {},
   "outputs": [],
   "source": [
    "\n",
    "# find mean of each feature\n",
    "mue=np.mean(x,axis=0)\n",
    "\n",
    "# find standard deviation of each feature\n",
    "std=np.std(x,axis=0)\n",
    "\n",
    "# Normalize features\n",
    "for i in range(0,cols-1):\n",
    "    x[:,i]=(np.subtract(x[:,i],mue[i]))/std[i]\n"
   ]
  },
  {
   "cell_type": "code",
   "execution_count": 9,
   "metadata": {},
   "outputs": [
    {
     "data": {
      "text/plain": [
       "(1599, 11)"
      ]
     },
     "execution_count": 9,
     "metadata": {},
     "output_type": "execute_result"
    }
   ],
   "source": [
    "x.shape"
   ]
  },
  {
   "cell_type": "markdown",
   "metadata": {},
   "source": [
    "### Segrete the attribute values into 4 equal spaced bins each giving the values between 0 to 3  and replace the values for that attribute with the number of corresponding to the interval they belong."
   ]
  },
  {
   "cell_type": "code",
   "execution_count": 10,
   "metadata": {},
   "outputs": [
    {
     "name": "stdout",
     "output_type": "stream",
     "text": [
      "[[0 1 0 ... 2 0 0]\n",
      " [1 2 0 ... 1 0 0]\n",
      " [1 1 0 ... 1 0 0]\n",
      " ...\n",
      " [0 1 0 ... 2 1 1]\n",
      " [0 1 0 ... 2 0 1]\n",
      " [0 0 1 ... 2 0 1]]\n",
      "[1 1 1 ... 1 1 1]\n"
     ]
    }
   ],
   "source": [
    "# find minimum and maximum values of each attribute\n",
    "min_x=np.min(x,axis=0)\n",
    "max_x=np.max(x,axis=0)\n",
    "\n",
    "# calculate step size to define range of bins\n",
    "step=(max_x-min_x)/4\n",
    "\n",
    "#segregate them into bins\n",
    "row,col=np.shape(x)\n",
    "for j in range(col):\n",
    "    for i in range(row):\n",
    "        if(x[i,j]<=min_x[j]+step[j]):\n",
    "            x[i,j]=0\n",
    "        elif(x[i,j]<=min_x[j]+2*step[j]):\n",
    "            x[i,j]=1\n",
    "        elif(x[i,j]<=min_x[j]+3*step[j]):\n",
    "            x[i,j]=2\n",
    "        else:\n",
    "            x[i,j]=3\n",
    "x=x.astype(int)     \n",
    "y=y.astype(int)\n",
    "print(x)\n",
    "print(y)"
   ]
  },
  {
   "cell_type": "markdown",
   "metadata": {},
   "source": [
    "# concatenate x and y"
   ]
  },
  {
   "cell_type": "code",
   "execution_count": 17,
   "metadata": {},
   "outputs": [
    {
     "data": {
      "text/plain": [
       "(1599, 12)"
      ]
     },
     "execution_count": 17,
     "metadata": {},
     "output_type": "execute_result"
    }
   ],
   "source": [
    "# concatenate x and y\n",
    "y=np.reshape(y,(len(y),1))\n",
    "data=np.concatenate((x,y),axis=1)\n",
    "data.shape"
   ]
  },
  {
   "cell_type": "markdown",
   "metadata": {},
   "source": [
    "# Split data into training and testing data"
   ]
  },
  {
   "cell_type": "code",
   "execution_count": 19,
   "metadata": {},
   "outputs": [],
   "source": [
    "m=data.shape[0]\n",
    "split=int(0.8*m)   # 80 percent for training\n",
    "ind=np.random.permutation(m)  # randomly permute a sequence\n",
    "train_ind,test_ind=ind[:split],ind[split:]\n",
    "#x1,y1 input and output data for training\n",
    "#x2,y2 input and output data for testing\n",
    "train_data=data[train_ind]\n",
    "test_data=data[test_ind]\n"
   ]
  },
  {
   "cell_type": "code",
   "execution_count": 20,
   "metadata": {},
   "outputs": [
    {
     "name": "stdout",
     "output_type": "stream",
     "text": [
      "(1279, 12) (320, 12)\n"
     ]
    }
   ],
   "source": [
    "print(train_data.shape,test_data.shape)"
   ]
  },
  {
   "cell_type": "code",
   "execution_count": 46,
   "metadata": {},
   "outputs": [
    {
     "data": {
      "text/html": [
       "<div>\n",
       "<style scoped>\n",
       "    .dataframe tbody tr th:only-of-type {\n",
       "        vertical-align: middle;\n",
       "    }\n",
       "\n",
       "    .dataframe tbody tr th {\n",
       "        vertical-align: top;\n",
       "    }\n",
       "\n",
       "    .dataframe thead th {\n",
       "        text-align: right;\n",
       "    }\n",
       "</style>\n",
       "<table border=\"1\" class=\"dataframe\">\n",
       "  <thead>\n",
       "    <tr style=\"text-align: right;\">\n",
       "      <th></th>\n",
       "      <th>fixed acidity</th>\n",
       "      <th>volatile acidity</th>\n",
       "      <th>citric acid</th>\n",
       "      <th>residual sugar</th>\n",
       "      <th>chlorides</th>\n",
       "      <th>free sulfur dioxide</th>\n",
       "      <th>total sulfur dioxide</th>\n",
       "      <th>density</th>\n",
       "      <th>pH</th>\n",
       "      <th>sulphates</th>\n",
       "      <th>alcohol</th>\n",
       "      <th>quality</th>\n",
       "    </tr>\n",
       "  </thead>\n",
       "  <tbody>\n",
       "    <tr>\n",
       "      <th>0</th>\n",
       "      <td>2</td>\n",
       "      <td>1</td>\n",
       "      <td>1</td>\n",
       "      <td>0</td>\n",
       "      <td>0</td>\n",
       "      <td>0</td>\n",
       "      <td>0</td>\n",
       "      <td>2</td>\n",
       "      <td>0</td>\n",
       "      <td>0</td>\n",
       "      <td>0</td>\n",
       "      <td>1</td>\n",
       "    </tr>\n",
       "    <tr>\n",
       "      <th>1</th>\n",
       "      <td>1</td>\n",
       "      <td>0</td>\n",
       "      <td>1</td>\n",
       "      <td>0</td>\n",
       "      <td>0</td>\n",
       "      <td>0</td>\n",
       "      <td>0</td>\n",
       "      <td>2</td>\n",
       "      <td>1</td>\n",
       "      <td>0</td>\n",
       "      <td>0</td>\n",
       "      <td>1</td>\n",
       "    </tr>\n",
       "    <tr>\n",
       "      <th>2</th>\n",
       "      <td>1</td>\n",
       "      <td>0</td>\n",
       "      <td>1</td>\n",
       "      <td>0</td>\n",
       "      <td>0</td>\n",
       "      <td>0</td>\n",
       "      <td>0</td>\n",
       "      <td>1</td>\n",
       "      <td>1</td>\n",
       "      <td>1</td>\n",
       "      <td>3</td>\n",
       "      <td>1</td>\n",
       "    </tr>\n",
       "    <tr>\n",
       "      <th>3</th>\n",
       "      <td>0</td>\n",
       "      <td>0</td>\n",
       "      <td>1</td>\n",
       "      <td>0</td>\n",
       "      <td>0</td>\n",
       "      <td>1</td>\n",
       "      <td>0</td>\n",
       "      <td>1</td>\n",
       "      <td>3</td>\n",
       "      <td>0</td>\n",
       "      <td>2</td>\n",
       "      <td>2</td>\n",
       "    </tr>\n",
       "    <tr>\n",
       "      <th>4</th>\n",
       "      <td>1</td>\n",
       "      <td>1</td>\n",
       "      <td>0</td>\n",
       "      <td>0</td>\n",
       "      <td>0</td>\n",
       "      <td>0</td>\n",
       "      <td>0</td>\n",
       "      <td>2</td>\n",
       "      <td>1</td>\n",
       "      <td>0</td>\n",
       "      <td>0</td>\n",
       "      <td>1</td>\n",
       "    </tr>\n",
       "    <tr>\n",
       "      <th>...</th>\n",
       "      <td>...</td>\n",
       "      <td>...</td>\n",
       "      <td>...</td>\n",
       "      <td>...</td>\n",
       "      <td>...</td>\n",
       "      <td>...</td>\n",
       "      <td>...</td>\n",
       "      <td>...</td>\n",
       "      <td>...</td>\n",
       "      <td>...</td>\n",
       "      <td>...</td>\n",
       "      <td>...</td>\n",
       "    </tr>\n",
       "    <tr>\n",
       "      <th>1274</th>\n",
       "      <td>0</td>\n",
       "      <td>1</td>\n",
       "      <td>0</td>\n",
       "      <td>0</td>\n",
       "      <td>0</td>\n",
       "      <td>1</td>\n",
       "      <td>0</td>\n",
       "      <td>1</td>\n",
       "      <td>2</td>\n",
       "      <td>0</td>\n",
       "      <td>1</td>\n",
       "      <td>1</td>\n",
       "    </tr>\n",
       "    <tr>\n",
       "      <th>1275</th>\n",
       "      <td>1</td>\n",
       "      <td>1</td>\n",
       "      <td>0</td>\n",
       "      <td>0</td>\n",
       "      <td>0</td>\n",
       "      <td>1</td>\n",
       "      <td>0</td>\n",
       "      <td>2</td>\n",
       "      <td>2</td>\n",
       "      <td>0</td>\n",
       "      <td>0</td>\n",
       "      <td>1</td>\n",
       "    </tr>\n",
       "    <tr>\n",
       "      <th>1276</th>\n",
       "      <td>1</td>\n",
       "      <td>1</td>\n",
       "      <td>0</td>\n",
       "      <td>0</td>\n",
       "      <td>0</td>\n",
       "      <td>1</td>\n",
       "      <td>0</td>\n",
       "      <td>1</td>\n",
       "      <td>1</td>\n",
       "      <td>0</td>\n",
       "      <td>0</td>\n",
       "      <td>1</td>\n",
       "    </tr>\n",
       "    <tr>\n",
       "      <th>1277</th>\n",
       "      <td>0</td>\n",
       "      <td>1</td>\n",
       "      <td>0</td>\n",
       "      <td>0</td>\n",
       "      <td>0</td>\n",
       "      <td>0</td>\n",
       "      <td>0</td>\n",
       "      <td>1</td>\n",
       "      <td>2</td>\n",
       "      <td>1</td>\n",
       "      <td>0</td>\n",
       "      <td>1</td>\n",
       "    </tr>\n",
       "    <tr>\n",
       "      <th>1278</th>\n",
       "      <td>1</td>\n",
       "      <td>1</td>\n",
       "      <td>0</td>\n",
       "      <td>0</td>\n",
       "      <td>0</td>\n",
       "      <td>0</td>\n",
       "      <td>0</td>\n",
       "      <td>2</td>\n",
       "      <td>1</td>\n",
       "      <td>0</td>\n",
       "      <td>1</td>\n",
       "      <td>1</td>\n",
       "    </tr>\n",
       "  </tbody>\n",
       "</table>\n",
       "<p>1279 rows × 12 columns</p>\n",
       "</div>"
      ],
      "text/plain": [
       "      fixed acidity  volatile acidity  citric acid  residual sugar  chlorides  \\\n",
       "0                 2                 1            1               0          0   \n",
       "1                 1                 0            1               0          0   \n",
       "2                 1                 0            1               0          0   \n",
       "3                 0                 0            1               0          0   \n",
       "4                 1                 1            0               0          0   \n",
       "...             ...               ...          ...             ...        ...   \n",
       "1274              0                 1            0               0          0   \n",
       "1275              1                 1            0               0          0   \n",
       "1276              1                 1            0               0          0   \n",
       "1277              0                 1            0               0          0   \n",
       "1278              1                 1            0               0          0   \n",
       "\n",
       "      free sulfur dioxide  total sulfur dioxide  density  pH  sulphates  \\\n",
       "0                       0                     0        2   0          0   \n",
       "1                       0                     0        2   1          0   \n",
       "2                       0                     0        1   1          1   \n",
       "3                       1                     0        1   3          0   \n",
       "4                       0                     0        2   1          0   \n",
       "...                   ...                   ...      ...  ..        ...   \n",
       "1274                    1                     0        1   2          0   \n",
       "1275                    1                     0        2   2          0   \n",
       "1276                    1                     0        1   1          0   \n",
       "1277                    0                     0        1   2          1   \n",
       "1278                    0                     0        2   1          0   \n",
       "\n",
       "      alcohol  quality  \n",
       "0           0        1  \n",
       "1           0        1  \n",
       "2           3        1  \n",
       "3           2        2  \n",
       "4           0        1  \n",
       "...       ...      ...  \n",
       "1274        1        1  \n",
       "1275        0        1  \n",
       "1276        0        1  \n",
       "1277        0        1  \n",
       "1278        1        1  \n",
       "\n",
       "[1279 rows x 12 columns]"
      ]
     },
     "execution_count": 46,
     "metadata": {},
     "output_type": "execute_result"
    }
   ],
   "source": [
    "# Converting numpy array to dataframe\n",
    "\n",
    "columns=['fixed acidity','volatile acidity','citric acid','residual sugar','chlorides',\n",
    "          'free sulfur dioxide','total sulfur dioxide','density','pH','sulphates','alcohol','quality']\n",
    "features=columns[:-1]\n",
    "trainData_df=pd.DataFrame(data=train_data,columns=columns)\n",
    "testData_df=pd.DataFrame(data=test_data,columns=columns)\n",
    "trainData_df"
   ]
  },
  {
   "cell_type": "markdown",
   "metadata": {},
   "source": [
    "# Implement ID3 Decision tree algorithm  \n",
    "### It uses information gain to choose which attribute to split at each point\n",
    "### Stop splitting a node if it has less than 10 data points"
   ]
  },
  {
   "cell_type": "markdown",
   "metadata": {},
   "source": [
    "# Informatin Gain"
   ]
  },
  {
   "cell_type": "code",
   "execution_count": 26,
   "metadata": {},
   "outputs": [],
   "source": [
    "def entropy(target):\n",
    "    \n",
    "    #Find different classes and counts corresponding to each class\n",
    "    values,counts = np.unique(target,return_counts = True)\n",
    "    \n",
    "    entropy1=0\n",
    "    #calculate entropy\n",
    "    for i in range(len(values)):\n",
    "        p=counts[i]/np.sum(counts)\n",
    "        entropy1+=(-p)*np.log2(p)\n",
    "    return entropy1\n",
    "\n",
    "#Function to find Information gain\n",
    "#It takes data and split attribute name\n",
    "def InfoGain(data,attribute):\n",
    "    target='quality'\n",
    "    \n",
    "    #Entropy at parent node\n",
    "    total_entropy=entropy(data[target])\n",
    "    \n",
    "    \n",
    "    val,counts=np.unique(data[attribute],return_counts = True)\n",
    "    \n",
    "    y=np.zeros(len(val),dtype=object)\n",
    "    for j in range(len(val)):\n",
    "        #store data separately for each of the unique values of attribute\n",
    "        y[j]=data.where(data[attribute]==val[j]).dropna()[target]\n",
    "\n",
    "        \n",
    "    weighted_entropy=np.sum([(counts[j]/np.sum(counts))*entropy(y[j]) for j in range(len(val))])\n",
    "    information_gain=total_entropy-weighted_entropy"
   ]
  },
  {
   "cell_type": "code",
   "execution_count": 74,
   "metadata": {},
   "outputs": [],
   "source": [
    "# Decision tree"
   ]
  },
  {
   "cell_type": "code",
   "execution_count": 27,
   "metadata": {},
   "outputs": [],
   "source": [
    "def ID3(data,originaldata,features,target_class='quality',parent_node_class=None):\n",
    "    #Values and corresponding counts of target class at parent node\n",
    "    val_t,count_t=np.unique(data[target_class],return_counts=True)\n",
    "    #Find the dominant class(The class which occurs maximum no. of times in original dataset)\n",
    "    val_o,count_o=np.unique(originaldata[target_class],return_counts=True)\n",
    "    dominant_class=val_o[np.argmax(count_o)]\n",
    "    #If all target values have same value assign that value as class\n",
    "    if len(val_t) <= 1:\n",
    "        return val_t\n",
    "    #If the dataset is empty, return default class\n",
    "    \n",
    "    elif len(data)==0:\n",
    "        return dominant_class\n",
    "    #If the splitting is done using all features (No more features are left to split), assign the class which occurs \n",
    "    #maximum no. of times at parent node i.e parent_node_class\n",
    "    elif len(features) ==0:\n",
    "        return parent_node_class\n",
    "    #If data points present at the node are less than or equal to 10, assign parent_node_class\n",
    "    elif np.sum(count_t)<10:\n",
    "        return parent_node_class\n",
    "    else:\n",
    "\n",
    "        parent_node_class=val_t[np.argmax(count_t)]\n",
    "        gain=np.zeros(np.shape(features)[0])\n",
    "        #Split the node using all remaining features and select a feature which gives maximum information gain\n",
    "        for i in range(np.size(features)):\n",
    "            attribute_name=features[i]\n",
    "    \n",
    "            gain[i]=InfoGain(data,attribute_name)\n",
    "        best_feature=features[np.argmax(gain)]\n",
    "        #Build tree with best_feature\n",
    "        tree = {best_feature:{}}\n",
    "        \n",
    "        #Remove best feature from features as its splitting is done\n",
    "        features = [item for item in features if item != best_feature]\n",
    "        \n",
    "        #Grow a branch under the parent node for each possible value of the parent  node feature\n",
    "        \n",
    "            \n",
    "        val=np.unique(data[best_feature])\n",
    "        for i in range(np.size(val)):\n",
    "            value = val[i]\n",
    "            #Split the dataset along the value of the feature with the largest information gain and therwith create sub_datasets\n",
    "            new_data = data.where(data[best_feature] == value).dropna()\n",
    "            \n",
    "            #Call the ID3 algorithm for each of those sub_datasets with the new parameters (Recursion)\n",
    "            subtree = ID3(new_data,originaldata,features,target_class,parent_node_class)\n",
    "            \n",
    "            #Add the sub tree, grown from the sub_dataset to the tree under the root node\n",
    "            tree[best_feature][value] = subtree\n",
    "            \n",
    "        return(tree)   "
   ]
  },
  {
   "cell_type": "code",
   "execution_count": 28,
   "metadata": {},
   "outputs": [],
   "source": [
    "#Prediction\n",
    "\n",
    "def predict(test_data,tree_d,dominant_class):   \n",
    "    test_keys=list(test_data.keys())\n",
    "    tree_keys=list(tree_d.keys())\n",
    "    for key in (test_keys):\n",
    "        if key in (tree_keys):\n",
    "            try:\n",
    "                result = tree_d[key][test_data[key]] \n",
    "           \n",
    "            except:\n",
    "                return dominant_class\n",
    "            \n",
    "            #check if output is leaf node or not\n",
    "            #If result is dictionary it is not leaf node, otherwise it will be leaf node\n",
    "            if isinstance(result,dict):\n",
    "                #If not leaf node, again predict using resultant tree\n",
    "                return predict(test_data,result,dominant_class)\n",
    "            else:\n",
    "                #If leaf it is leaf node, return result\n",
    "                return result"
   ]
  },
  {
   "cell_type": "code",
   "execution_count": 30,
   "metadata": {},
   "outputs": [],
   "source": [
    "tree=ID3(trainData_df,trainData_df,features,target_class='quality',parent_node_class=None)"
   ]
  },
  {
   "cell_type": "markdown",
   "metadata": {},
   "source": [
    "# convert test dataframe to dictionary"
   ]
  },
  {
   "cell_type": "code",
   "execution_count": 59,
   "metadata": {},
   "outputs": [],
   "source": [
    "dict_test=testData_df.to_dict('records')\n",
    "true_y=testData_df['quality']\n",
    "true_y=true_y.to_numpy()"
   ]
  },
  {
   "cell_type": "code",
   "execution_count": 61,
   "metadata": {},
   "outputs": [],
   "source": [
    "# Find dominant class of training data\n",
    "# Assign sample to this class when different conditions occur\n",
    "val_o,count_o=np.unique(trainData_df['quality'],return_counts=True)\n",
    "dominant_class=val_o[np.argmax(count_o)]\n",
    "pred_y=np.zeros(len(dict_test))"
   ]
  },
  {
   "cell_type": "markdown",
   "metadata": {},
   "source": [
    "# predict output for every sample in test data"
   ]
  },
  {
   "cell_type": "code",
   "execution_count": 62,
   "metadata": {},
   "outputs": [],
   "source": [
    "i=0\n",
    "for sample in dict_test:\n",
    "    pred_y[i]=predict(sample,tree,dominant_class)\n",
    "    i=i+1\n",
    "    "
   ]
  },
  {
   "cell_type": "markdown",
   "metadata": {},
   "source": [
    "# Evaluation"
   ]
  },
  {
   "cell_type": "code",
   "execution_count": 67,
   "metadata": {},
   "outputs": [],
   "source": [
    "def evaluate(h,y):\n",
    "    accuracy=np.sum(h==y)/len(h)\n",
    "    precision=np.sum(np.logical_and(h==1,y==1))/np.sum(h==1)\n",
    "    recall=np.sum(np.logical_and(h==1,y==1))/np.sum(y==1)\n",
    "    return accuracy,precision,recall"
   ]
  },
  {
   "cell_type": "code",
   "execution_count": 70,
   "metadata": {},
   "outputs": [
    {
     "name": "stdout",
     "output_type": "stream",
     "text": [
      "accuracy:85.94%\n",
      "precision:88.00%\n",
      "recall:96.70%\n"
     ]
    }
   ],
   "source": [
    "accuracy,precision,recall=evaluate(pred_y,true_y)\n",
    "print('accuracy:{:.2%}\\nprecision:{:.2%}\\nrecall:{:.2%}'.format(accuracy,precision,recall))"
   ]
  }
 ],
 "metadata": {
  "kernelspec": {
   "display_name": "Python 3",
   "language": "python",
   "name": "python3"
  },
  "language_info": {
   "codemirror_mode": {
    "name": "ipython",
    "version": 3
   },
   "file_extension": ".py",
   "mimetype": "text/x-python",
   "name": "python",
   "nbconvert_exporter": "python",
   "pygments_lexer": "ipython3",
   "version": "3.7.6"
  }
 },
 "nbformat": 4,
 "nbformat_minor": 2
}
